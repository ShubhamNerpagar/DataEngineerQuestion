{
 "cells": [
  {
   "cell_type": "markdown",
   "id": "f21bf612",
   "metadata": {},
   "source": [
    "# Python String Methods"
   ]
  },
  {
   "cell_type": "code",
   "execution_count": 6,
   "id": "c5ee3533",
   "metadata": {},
   "outputs": [],
   "source": [
    "a_message = 'hello world'"
   ]
  },
  {
   "cell_type": "code",
   "execution_count": 8,
   "id": "376af8bd",
   "metadata": {},
   "outputs": [
    {
     "data": {
      "text/plain": [
       "'Hello world'"
      ]
     },
     "execution_count": 8,
     "metadata": {},
     "output_type": "execute_result"
    }
   ],
   "source": [
    "# 1.capitalize   ( Convert first letter to upper case)\n",
    "\n",
    "a_message.capitalize()"
   ]
  },
  {
   "cell_type": "code",
   "execution_count": 10,
   "id": "5886e88c",
   "metadata": {},
   "outputs": [
    {
     "data": {
      "text/plain": [
       "'hello world'"
      ]
     },
     "execution_count": 10,
     "metadata": {},
     "output_type": "execute_result"
    }
   ],
   "source": [
    "# 2. Casefold   (Convert string into lower case)\n",
    "\n",
    "message = 'HELLO WORLD'\n",
    "message.casefold()"
   ]
  },
  {
   "cell_type": "code",
   "execution_count": 14,
   "id": "2ec4b119",
   "metadata": {},
   "outputs": [
    {
     "data": {
      "text/plain": [
       "'    Hello World     '"
      ]
     },
     "execution_count": 14,
     "metadata": {},
     "output_type": "execute_result"
    }
   ],
   "source": [
    "# 3.Center    (Adds space before and after the letter)\n",
    "\n",
    "message = 'Hello World'\n",
    "\n",
    "message.center(20)"
   ]
  },
  {
   "cell_type": "code",
   "execution_count": 15,
   "id": "02e48613",
   "metadata": {},
   "outputs": [
    {
     "data": {
      "text/plain": [
       "3"
      ]
     },
     "execution_count": 15,
     "metadata": {},
     "output_type": "execute_result"
    }
   ],
   "source": [
    "# 4.Count   (Return the number of times the values occured)\n",
    "\n",
    "message = 'Hello World'\n",
    "\n",
    "message.count('l')"
   ]
  },
  {
   "cell_type": "code",
   "execution_count": 16,
   "id": "cd96e30f",
   "metadata": {},
   "outputs": [
    {
     "data": {
      "text/plain": [
       "b'Hellow world'"
      ]
     },
     "execution_count": 16,
     "metadata": {},
     "output_type": "execute_result"
    }
   ],
   "source": [
    "# 5.encode  (Return the encoded version of string)\n",
    "\n",
    "message = 'Hellow world'\n",
    "\n",
    "message.encode()"
   ]
  },
  {
   "cell_type": "code",
   "execution_count": 18,
   "id": "e65beff0",
   "metadata": {},
   "outputs": [
    {
     "data": {
      "text/plain": [
       "True"
      ]
     },
     "execution_count": 18,
     "metadata": {},
     "output_type": "execute_result"
    }
   ],
   "source": [
    "# 6. endswith  (Returns true if the string ends with the specified value)\n",
    "\n",
    "message = 'Hello World'\n",
    "\n",
    "message.endswith('S')\n",
    "message.endswith('d')"
   ]
  },
  {
   "cell_type": "code",
   "execution_count": 23,
   "id": "89fd1829",
   "metadata": {},
   "outputs": [
    {
     "name": "stdout",
     "output_type": "stream",
     "text": [
      "H e l l o\n"
     ]
    }
   ],
   "source": [
    "# 7.expandtabs   (Sets the tab size of the string)\n",
    "\n",
    "txt = \"H\\te\\tl\\tl\\to\"\n",
    "\n",
    "x =  txt.expandtabs(2)\n",
    "\n",
    "print(x)"
   ]
  },
  {
   "cell_type": "code",
   "execution_count": 25,
   "id": "347d75d2",
   "metadata": {},
   "outputs": [
    {
     "data": {
      "text/plain": [
       "22"
      ]
     },
     "execution_count": 25,
     "metadata": {},
     "output_type": "execute_result"
    }
   ],
   "source": [
    "# 8.find()\tSearches the string for a specified value and returns the position of where it was found\n",
    "\n",
    "\n",
    "message = 'Hello World how are you'\n",
    "\n",
    "message.find('u')"
   ]
  },
  {
   "cell_type": "code",
   "execution_count": 29,
   "id": "a6dd0d68",
   "metadata": {},
   "outputs": [
    {
     "data": {
      "text/plain": [
       "4"
      ]
     },
     "execution_count": 29,
     "metadata": {},
     "output_type": "execute_result"
    }
   ],
   "source": [
    "# 9. index()\tSearches the string for a specified value and returns the position of where it was found\n",
    "\n",
    "message = 'How are you'\n",
    "\n",
    "message.index('a')"
   ]
  },
  {
   "cell_type": "code",
   "execution_count": 40,
   "id": "52897052",
   "metadata": {},
   "outputs": [
    {
     "data": {
      "text/plain": [
       "'S#h#u#b#h#a#m'"
      ]
     },
     "execution_count": 40,
     "metadata": {},
     "output_type": "execute_result"
    }
   ],
   "source": [
    "# 10. Join\n",
    "\n",
    "a = 'Shubham'\n",
    "\n",
    "x = '#'.join(a)\n",
    "x"
   ]
  },
  {
   "cell_type": "code",
   "execution_count": 39,
   "id": "8385fe00",
   "metadata": {},
   "outputs": [
    {
     "data": {
      "text/plain": [
       "'4Shubham0'"
      ]
     },
     "execution_count": 39,
     "metadata": {},
     "output_type": "execute_result"
    }
   ],
   "source": [
    "a = 'Shubham'\n",
    "\n",
    "x = a.join('40')\n",
    "\n",
    "x"
   ]
  },
  {
   "cell_type": "code",
   "execution_count": 50,
   "id": "6600b77d",
   "metadata": {},
   "outputs": [
    {
     "data": {
      "text/plain": [
       "('Hello World ', 'How', ' is you life')"
      ]
     },
     "execution_count": 50,
     "metadata": {},
     "output_type": "execute_result"
    }
   ],
   "source": [
    "# 11. partition()   Returns a tuple where the string is parted into three parts\n",
    "\n",
    "message = 'Hello World How is you life'\n",
    "\n",
    "x = message.partition('How')\n",
    "\n",
    "x"
   ]
  },
  {
   "cell_type": "code",
   "execution_count": 52,
   "id": "2888d1e7",
   "metadata": {},
   "outputs": [
    {
     "data": {
      "text/plain": [
       "'Hello sorld'"
      ]
     },
     "execution_count": 52,
     "metadata": {},
     "output_type": "execute_result"
    }
   ],
   "source": [
    "# 12.replace     (Returns a string where a specified value is replaced with a specified value)\n",
    "\n",
    "\n",
    "message = 'Hello world'\n",
    "\n",
    "message.replace(\"w\",\"s\")"
   ]
  },
  {
   "cell_type": "code",
   "execution_count": 53,
   "id": "bdb577a9",
   "metadata": {},
   "outputs": [
    {
     "data": {
      "text/plain": [
       "'       Message is how are you       '"
      ]
     },
     "execution_count": 53,
     "metadata": {},
     "output_type": "execute_result"
    }
   ],
   "source": [
    "# 13. Strip\n",
    "\n",
    "\n",
    "message = '       Message is how are you       '\n",
    "message"
   ]
  },
  {
   "cell_type": "code",
   "execution_count": 54,
   "id": "a62f47b2",
   "metadata": {},
   "outputs": [
    {
     "data": {
      "text/plain": [
       "'Message is how are you'"
      ]
     },
     "execution_count": 54,
     "metadata": {},
     "output_type": "execute_result"
    }
   ],
   "source": [
    "message.strip()"
   ]
  },
  {
   "cell_type": "code",
   "execution_count": 57,
   "id": "760e6733",
   "metadata": {},
   "outputs": [
    {
     "data": {
      "text/plain": [
       "'This Is The Programmers Job'"
      ]
     },
     "execution_count": 57,
     "metadata": {},
     "output_type": "execute_result"
    }
   ],
   "source": [
    "# 14. Title   (Convert each letters first word into upper case)\n",
    "\n",
    "message = 'This is the programmers job'\n",
    "message.title()"
   ]
  },
  {
   "cell_type": "code",
   "execution_count": 58,
   "id": "1ff2a9d2",
   "metadata": {},
   "outputs": [
    {
     "data": {
      "text/plain": [
       "'HOW IS EVERYTHING'"
      ]
     },
     "execution_count": 58,
     "metadata": {},
     "output_type": "execute_result"
    }
   ],
   "source": [
    "# 15. Upper\n",
    "\n",
    "\n",
    "message = 'How is everything'\n",
    "\n",
    "message.upper()"
   ]
  }
 ],
 "metadata": {
  "kernelspec": {
   "display_name": "Python 3",
   "language": "python",
   "name": "python3"
  },
  "language_info": {
   "codemirror_mode": {
    "name": "ipython",
    "version": 3
   },
   "file_extension": ".py",
   "mimetype": "text/x-python",
   "name": "python",
   "nbconvert_exporter": "python",
   "pygments_lexer": "ipython3",
   "version": "3.8.8"
  }
 },
 "nbformat": 4,
 "nbformat_minor": 5
}
