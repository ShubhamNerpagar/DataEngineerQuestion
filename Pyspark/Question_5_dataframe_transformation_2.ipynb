{
 "cells": [
  {
   "cell_type": "markdown",
   "metadata": {
    "application/vnd.databricks.v1+cell": {
     "cellMetadata": {},
     "inputWidgets": {},
     "nuid": "35e14c08-f567-46ec-a64f-d6ef92ec798e",
     "showTitle": false,
     "title": ""
    }
   },
   "source": [
    "\n",
    "# DataFrame transformation part 2\n",
    "\n",
    "\n",
    "Topic Covered\n",
    "* Aliasing\n",
    "* filter/where\n",
    "* literal\n",
    "* adding column\n",
    "* renaming column\n",
    "* casting data type\n",
    "* removing column"
   ]
  },
  {
   "cell_type": "code",
   "execution_count": 0,
   "metadata": {
    "application/vnd.databricks.v1+cell": {
     "cellMetadata": {
      "byteLimit": 2048000,
      "rowLimit": 10000
     },
     "inputWidgets": {},
     "nuid": "e2e274d7-af4a-4192-b446-234ba4713db0",
     "showTitle": false,
     "title": ""
    }
   },
   "outputs": [
    {
     "output_type": "stream",
     "name": "stdout",
     "output_type": "stream",
     "text": [
      "+---+--------+---+------+-----------+-----------+\n| id|    name|age|salary|    address|    nominee|\n+---+--------+---+------+-----------+-----------+\n|  1|  Manish| 26| 75000|      Bihar|   nominee1|\n|  2|  Nikita| 23|100000|Maharashtra|   nominee2|\n|  3|  Pritam| 22|150000|   banglore|      India|\n|  4|Prantosh| 17|200000|    kolkata|      india|\n|  5|  Vikash| 31|300000|       pune|Maharashtra|\n|  6|   Rahul| 55|300000|       null|       null|\n+---+--------+---+------+-----------+-----------+\n\n"
     ]
    }
   ],
   "source": [
    "employee_df = spark.read.format(\"csv\")\\\n",
    "                        .option(\"header\",\"true\")\\\n",
    "                        .option(\"inferschema\",\"true\")\\\n",
    "                        .option(\"mode\",\"PERMISSIVE\")\\\n",
    "                        .load(\"/FileStore/schnario/emp_data3.csv\")\n",
    "employee_df.show()"
   ]
  },
  {
   "cell_type": "code",
   "execution_count": 0,
   "metadata": {
    "application/vnd.databricks.v1+cell": {
     "cellMetadata": {
      "byteLimit": 2048000,
      "rowLimit": 10000
     },
     "inputWidgets": {},
     "nuid": "d57bffeb-530c-4c19-ad8c-f13491b5af94",
     "showTitle": false,
     "title": ""
    }
   },
   "outputs": [
    {
     "output_type": "stream",
     "name": "stdout",
     "output_type": "stream",
     "text": [
      "root\n |-- id: integer (nullable = true)\n |-- name: string (nullable = true)\n |-- age: integer (nullable = true)\n |-- salary: integer (nullable = true)\n |-- address: string (nullable = true)\n |-- nominee: string (nullable = true)\n\n"
     ]
    }
   ],
   "source": [
    "employee_df.printSchema()"
   ]
  },
  {
   "cell_type": "code",
   "execution_count": 0,
   "metadata": {
    "application/vnd.databricks.v1+cell": {
     "cellMetadata": {
      "byteLimit": 2048000,
      "rowLimit": 10000
     },
     "inputWidgets": {},
     "nuid": "43de0a44-18a5-4c2e-94c4-d31377965113",
     "showTitle": false,
     "title": ""
    }
   },
   "outputs": [
    {
     "output_type": "stream",
     "name": "stdout",
     "output_type": "stream",
     "text": [
      "+-----------+\n|employee_id|\n+-----------+\n|          1|\n|          2|\n|          3|\n|          4|\n|          5|\n|          6|\n+-----------+\n\n"
     ]
    }
   ],
   "source": [
    "# Aliasing the column\n",
    "from pyspark.sql.functions import col\n",
    "\n",
    "employee_df.select(col('id').alias(\"employee_id\")).show()"
   ]
  },
  {
   "cell_type": "code",
   "execution_count": 0,
   "metadata": {
    "application/vnd.databricks.v1+cell": {
     "cellMetadata": {
      "byteLimit": 2048000,
      "rowLimit": 10000
     },
     "inputWidgets": {},
     "nuid": "96cf0a34-86be-4973-82ae-87d57cd1ec5a",
     "showTitle": false,
     "title": ""
    }
   },
   "outputs": [
    {
     "output_type": "stream",
     "name": "stdout",
     "output_type": "stream",
     "text": [
      "+---+--------+---+------+--------+-----------+\n| id|    name|age|salary| address|    nominee|\n+---+--------+---+------+--------+-----------+\n|  3|  Pritam| 22|150000|banglore|      India|\n|  4|Prantosh| 17|200000| kolkata|      india|\n|  5|  Vikash| 31|300000|    pune|Maharashtra|\n|  6|   Rahul| 55|300000|    null|       null|\n+---+--------+---+------+--------+-----------+\n\n"
     ]
    }
   ],
   "source": [
    "# From the employee_df show the result who has more salary than 100000\n",
    "\n",
    "df_3 = employee_df.filter(col('salary') > 100000)\n",
    "\n",
    "df_3.sort(\"salary\").show()"
   ]
  },
  {
   "cell_type": "code",
   "execution_count": 0,
   "metadata": {
    "application/vnd.databricks.v1+cell": {
     "cellMetadata": {
      "byteLimit": 2048000,
      "rowLimit": 10000
     },
     "inputWidgets": {},
     "nuid": "d94fbec1-b976-4a10-99ae-e058fa405ffb",
     "showTitle": false,
     "title": ""
    }
   },
   "outputs": [
    {
     "output_type": "stream",
     "name": "stdout",
     "output_type": "stream",
     "text": [
      "+---+------+---+------+-------+-----------+\n| id|  name|age|salary|address|    nominee|\n+---+------+---+------+-------+-----------+\n|  5|Vikash| 31|300000|   pune|Maharashtra|\n|  6| Rahul| 55|300000|   null|       null|\n+---+------+---+------+-------+-----------+\n\n"
     ]
    }
   ],
   "source": [
    "# From the employee_df show the result who has more salary than 100000 and age is above 25\n",
    "\n",
    "employee_df.filter((col('salary') > 100000) & (col('age') >= 25)).show()"
   ]
  },
  {
   "cell_type": "code",
   "execution_count": 0,
   "metadata": {
    "application/vnd.databricks.v1+cell": {
     "cellMetadata": {
      "byteLimit": 2048000,
      "rowLimit": 10000
     },
     "inputWidgets": {},
     "nuid": "6de474cb-595b-4849-8c14-487fc1c31858",
     "showTitle": false,
     "title": ""
    }
   },
   "outputs": [
    {
     "output_type": "stream",
     "name": "stdout",
     "output_type": "stream",
     "text": [
      "+---+--------+---+------+-----------+-----------+------------+\n| id|    name|age|salary|    address|    nominee|company_name|\n+---+--------+---+------+-----------+-----------+------------+\n|  1|  Manish| 26| 75000|      Bihar|   nominee1|         IBM|\n|  2|  Nikita| 23|100000|Maharashtra|   nominee2|         IBM|\n|  3|  Pritam| 22|150000|   banglore|      India|         IBM|\n|  4|Prantosh| 17|200000|    kolkata|      india|         IBM|\n|  5|  Vikash| 31|300000|       pune|Maharashtra|         IBM|\n|  6|   Rahul| 55|300000|       null|       null|         IBM|\n+---+--------+---+------+-----------+-----------+------------+\n\n"
     ]
    }
   ],
   "source": [
    "# use lit function\n",
    "\n",
    "from pyspark.sql.functions import lit\n",
    "\n",
    "employee_df.select(\"*\", lit(\"IBM\").alias(\"company_name\")).show()"
   ]
  },
  {
   "cell_type": "code",
   "execution_count": 0,
   "metadata": {
    "application/vnd.databricks.v1+cell": {
     "cellMetadata": {
      "byteLimit": 2048000,
      "rowLimit": 10000
     },
     "inputWidgets": {},
     "nuid": "788284d6-9b46-41af-b9e2-0d14b5f84780",
     "showTitle": false,
     "title": ""
    }
   },
   "outputs": [
    {
     "output_type": "stream",
     "name": "stdout",
     "output_type": "stream",
     "text": [
      "+-----------+--------+---+------+-----------+-----------+\n|employee_id|    name|age|salary|    address|    nominee|\n+-----------+--------+---+------+-----------+-----------+\n|          1|  Manish| 26| 75000|      Bihar|   nominee1|\n|          2|  Nikita| 23|100000|Maharashtra|   nominee2|\n|          3|  Pritam| 22|150000|   banglore|      India|\n|          4|Prantosh| 17|200000|    kolkata|      india|\n|          5|  Vikash| 31|300000|       pune|Maharashtra|\n|          6|   Rahul| 55|300000|       null|       null|\n+-----------+--------+---+------+-----------+-----------+\n\n"
     ]
    }
   ],
   "source": [
    "# Rename the column\n",
    "employee_df.withColumnRenamed(\"id\",\"employee_id\").show()"
   ]
  },
  {
   "cell_type": "code",
   "execution_count": 0,
   "metadata": {
    "application/vnd.databricks.v1+cell": {
     "cellMetadata": {
      "byteLimit": 2048000,
      "rowLimit": 10000
     },
     "inputWidgets": {},
     "nuid": "600c974f-c153-45eb-8bce-1061cbd4e3d7",
     "showTitle": false,
     "title": ""
    }
   },
   "outputs": [
    {
     "output_type": "stream",
     "name": "stdout",
     "output_type": "stream",
     "text": [
      "root\n |-- id: string (nullable = true)\n |-- name: string (nullable = true)\n |-- age: integer (nullable = true)\n |-- salary: long (nullable = true)\n |-- address: string (nullable = true)\n |-- nominee: string (nullable = true)\n\n"
     ]
    }
   ],
   "source": [
    "# Cast a id column convert from int to string\n",
    "\n",
    "\n",
    "employee_df.withColumn(\"id\", col(\"id\").cast(\"string\"))\\\n",
    "    .withColumn(\"salary\", col(\"salary\").cast(\"long\")).printSchema()"
   ]
  },
  {
   "cell_type": "code",
   "execution_count": 0,
   "metadata": {
    "application/vnd.databricks.v1+cell": {
     "cellMetadata": {
      "byteLimit": 2048000,
      "rowLimit": 10000
     },
     "inputWidgets": {},
     "nuid": "c6588ffc-eec8-4331-8bf5-2643e8427cd6",
     "showTitle": false,
     "title": ""
    }
   },
   "outputs": [
    {
     "output_type": "stream",
     "name": "stdout",
     "output_type": "stream",
     "text": [
      "+---+--------+---+------+\n| id|    name|age|salary|\n+---+--------+---+------+\n|  1|  Manish| 26| 75000|\n|  2|  Nikita| 23|100000|\n|  3|  Pritam| 22|150000|\n|  4|Prantosh| 17|200000|\n|  5|  Vikash| 31|300000|\n|  6|   Rahul| 55|300000|\n+---+--------+---+------+\n\n"
     ]
    }
   ],
   "source": [
    "# Drop the address and nominee column from the table\n",
    "\n",
    "employee_df.drop('address','nominee').show()"
   ]
  },
  {
   "cell_type": "code",
   "execution_count": 0,
   "metadata": {
    "application/vnd.databricks.v1+cell": {
     "cellMetadata": {
      "byteLimit": 2048000,
      "rowLimit": 10000
     },
     "inputWidgets": {},
     "nuid": "85de6032-77e0-4198-bcb9-f078f7e5152e",
     "showTitle": false,
     "title": ""
    }
   },
   "outputs": [],
   "source": [
    "# write in sql\n",
    "\n",
    "employee_df.createOrReplaceTempView(\"data\")"
   ]
  },
  {
   "cell_type": "code",
   "execution_count": 0,
   "metadata": {
    "application/vnd.databricks.v1+cell": {
     "cellMetadata": {
      "byteLimit": 2048000,
      "implicitDf": true,
      "rowLimit": 10000
     },
     "inputWidgets": {},
     "nuid": "402a2f86-b8d1-4f59-9812-d48df2789c82",
     "showTitle": false,
     "title": ""
    }
   },
   "outputs": [
    {
     "output_type": "display_data",
     "data": {
      "text/html": [
       "<style scoped>\n",
       "  .table-result-container {\n",
       "    max-height: 300px;\n",
       "    overflow: auto;\n",
       "  }\n",
       "  table, th, td {\n",
       "    border: 1px solid black;\n",
       "    border-collapse: collapse;\n",
       "  }\n",
       "  th, td {\n",
       "    padding: 5px;\n",
       "  }\n",
       "  th {\n",
       "    text-align: left;\n",
       "  }\n",
       "</style><div class='table-result-container'><table class='table-result'><thead style='background-color: white'><tr><th>id</th><th>name</th><th>age</th><th>salary</th><th>address</th><th>nominee</th><th>last_name</th></tr></thead><tbody><tr><td>6</td><td>Rahul</td><td>55</td><td>300000</td><td>null</td><td>null</td><td>IBM</td></tr></tbody></table></div>"
      ]
     },
     "metadata": {
      "application/vnd.databricks.v1+output": {
       "addedWidgets": {},
       "aggData": [],
       "aggError": "",
       "aggOverflow": false,
       "aggSchema": [],
       "aggSeriesLimitReached": false,
       "aggType": "",
       "arguments": {},
       "columnCustomDisplayInfos": {},
       "data": [
        [
         6,
         "Rahul",
         55,
         300000,
         "null",
         null,
         "IBM"
        ]
       ],
       "datasetInfos": [],
       "dbfsResultPath": null,
       "isJsonSchema": true,
       "metadata": {},
       "overflow": false,
       "plotOptions": {
        "customPlotOptions": {},
        "displayType": "table",
        "pivotAggregation": null,
        "pivotColumns": null,
        "xColumns": null,
        "yColumns": null
       },
       "removedWidgets": [],
       "schema": [
        {
         "metadata": "{}",
         "name": "id",
         "type": "\"integer\""
        },
        {
         "metadata": "{}",
         "name": "name",
         "type": "\"string\""
        },
        {
         "metadata": "{}",
         "name": "age",
         "type": "\"integer\""
        },
        {
         "metadata": "{}",
         "name": "salary",
         "type": "\"integer\""
        },
        {
         "metadata": "{}",
         "name": "address",
         "type": "\"string\""
        },
        {
         "metadata": "{}",
         "name": "nominee",
         "type": "\"string\""
        },
        {
         "metadata": "{}",
         "name": "last_name",
         "type": "\"string\""
        }
       ],
       "type": "table"
      }
     },
     "output_type": "display_data"
    }
   ],
   "source": [
    "%sql\n",
    "\n",
    "select *,\"IBM\" as last_name from data\n",
    "where age > 50;"
   ]
  }
 ],
 "metadata": {
  "application/vnd.databricks.v1+notebook": {
   "dashboards": [],
   "language": "python",
   "notebookMetadata": {
    "mostRecentlyExecutedCommandWithImplicitDF": {
     "commandId": 3912305177451887,
     "dataframes": [
      "_sqldf"
     ]
    },
    "pythonIndentUnit": 4
   },
   "notebookName": "Question_5_dataframe_transformation_2",
   "widgets": {}
  }
 },
 "nbformat": 4,
 "nbformat_minor": 0
}
