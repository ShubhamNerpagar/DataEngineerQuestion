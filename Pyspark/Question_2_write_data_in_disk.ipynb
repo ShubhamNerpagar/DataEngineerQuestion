{
 "cells": [
  {
   "cell_type": "markdown",
   "metadata": {
    "application/vnd.databricks.v1+cell": {
     "cellMetadata": {},
     "inputWidgets": {},
     "nuid": "16f640db-07a5-4c0a-9142-c9790258968a",
     "showTitle": false,
     "title": ""
    }
   },
   "source": [
    "# How to write data in spark"
   ]
  },
  {
   "cell_type": "code",
   "execution_count": 0,
   "metadata": {
    "application/vnd.databricks.v1+cell": {
     "cellMetadata": {
      "byteLimit": 2048000,
      "rowLimit": 10000
     },
     "inputWidgets": {},
     "nuid": "3e568d24-e048-446a-8dc8-776440abe8c9",
     "showTitle": false,
     "title": ""
    }
   },
   "outputs": [],
   "source": [
    "from pyspark.sql import SparkSession\n",
    "\n",
    "spark = SparkSession.builder.master(\"local[*]\").appName(\"DF_Write\").getOrCreate()"
   ]
  },
  {
   "cell_type": "code",
   "execution_count": 0,
   "metadata": {
    "application/vnd.databricks.v1+cell": {
     "cellMetadata": {
      "byteLimit": 2048000,
      "rowLimit": 10000
     },
     "inputWidgets": {},
     "nuid": "6e48499f-a89d-4f21-aacc-7c17f9cd3a93",
     "showTitle": false,
     "title": ""
    }
   },
   "outputs": [
    {
     "output_type": "stream",
     "name": "stdout",
     "output_type": "stream",
     "text": [
      "+---+----------+--------+--------+----------+-----------+\n| id|      name|     age|  salary|   address|     gender|\n+---+----------+--------+--------+----------+-----------+\n|  1|    Manish|    26.0| 75000.0|     INDIA|          m|\n|  2|    Nikita|    23.0|100000.0|       USA|          f|\n|  3|    Pritam|    22.0|150000.0|     INDIA|          m|\n|  4|  Prantosh|    17.0|200000.0|     JAPAN|          m|\n|  5|    Vikash|    31.0|300000.0|       USA|          m|\n|  6|     Rahul|    55.0|300000.0|     INDIA|          m|\n|  7|      Raju|    67.0|540000.0|       USA|          m|\n|  8|   Praveen|    28.0| 70000.0|     JAPAN|          m|\n|  9|       Dev|    32.0|150000.0|     JAPAN|          m|\n| 10|    Sherin|    16.0| 25000.0|    RUSSIA|          f|\n| 11|      Ragu|    12.0| 35000.0|     INDIA|          f|\n| 12|     Sweta|    43.0|200000.0|     INDIA|          f|\n| 13|   Raushan|    48.0|650000.0|       USA|          m|\n| 14|    Mukesh|    36.0| 95000.0|    RUSSIA|          m|\n| 15|   Prakash|    52.0|750000.0|     INDIA|          m|\n+---+----------+--------+--------+----------+-----------+\n\n"
     ]
    }
   ],
   "source": [
    "df = spark.read.format(\"csv\")\\\n",
    "                .option(\"header\",\"true\")\\\n",
    "                .option(\"inferschema\", \"true\")\\\n",
    "                .option(\"mode\",\"PERMISSIVE\")\\\n",
    "                .load(\"/FileStore/schnario/emp_data1.csv\")\n",
    "\n",
    "df.show()"
   ]
  },
  {
   "cell_type": "code",
   "execution_count": 0,
   "metadata": {
    "application/vnd.databricks.v1+cell": {
     "cellMetadata": {
      "byteLimit": 2048000,
      "rowLimit": 10000
     },
     "inputWidgets": {},
     "nuid": "694159d6-ae96-4b99-aa51-2890d81311f4",
     "showTitle": false,
     "title": ""
    }
   },
   "outputs": [],
   "source": [
    "df.write.format(\"csv\")\\\n",
    "        .option(\"header\",\"true\")\\\n",
    "        .option(\"mode\",\"overwrite\")\\\n",
    "        .option(\"path\",\"/FileStore/schnario/csv_write/\")\\\n",
    "        .save()"
   ]
  },
  {
   "cell_type": "code",
   "execution_count": 0,
   "metadata": {
    "application/vnd.databricks.v1+cell": {
     "cellMetadata": {
      "byteLimit": 2048000,
      "rowLimit": 10000
     },
     "inputWidgets": {},
     "nuid": "8baa8f37-113c-4875-891f-72848f91fa7c",
     "showTitle": false,
     "title": ""
    }
   },
   "outputs": [
    {
     "output_type": "stream",
     "name": "stdout",
     "output_type": "stream",
     "text": [
      "Out[9]: [FileInfo(path='dbfs:/FileStore/schnario/csv_write/_SUCCESS', name='_SUCCESS', size=0, modificationTime=1694746171000),\n FileInfo(path='dbfs:/FileStore/schnario/csv_write/_committed_7514680837365065999', name='_committed_7514680837365065999', size=111, modificationTime=1694746171000),\n FileInfo(path='dbfs:/FileStore/schnario/csv_write/_started_7514680837365065999', name='_started_7514680837365065999', size=0, modificationTime=1694746171000),\n FileInfo(path='dbfs:/FileStore/schnario/csv_write/part-00000-tid-7514680837365065999-c5d8c8dd-2885-4ba3-beca-1b2f61f59b19-5-1-c000.csv', name='part-00000-tid-7514680837365065999-c5d8c8dd-2885-4ba3-beca-1b2f61f59b19-5-1-c000.csv', size=490, modificationTime=1694746171000)]"
     ]
    }
   ],
   "source": [
    "dbutils.fs.ls(\"/FileStore/schnario/csv_write/\")"
   ]
  },
  {
   "cell_type": "code",
   "execution_count": 0,
   "metadata": {
    "application/vnd.databricks.v1+cell": {
     "cellMetadata": {
      "byteLimit": 2048000,
      "rowLimit": 10000
     },
     "inputWidgets": {},
     "nuid": "68439c41-680c-4206-91ca-9a4201eb6ace",
     "showTitle": false,
     "title": ""
    }
   },
   "outputs": [],
   "source": [
    "## What if we increase the number of partition ??\n",
    "\n",
    "df.repartition(3).write.format(\"csv\")\\\n",
    "        .option(\"header\",\"true\")\\\n",
    "        .option(\"mode\",\"overwrite\")\\\n",
    "        .option(\"path\",\"/FileStore/schnario/csv_write_repartition/\")\\\n",
    "        .save()"
   ]
  },
  {
   "cell_type": "code",
   "execution_count": 0,
   "metadata": {
    "application/vnd.databricks.v1+cell": {
     "cellMetadata": {
      "byteLimit": 2048000,
      "rowLimit": 10000
     },
     "inputWidgets": {},
     "nuid": "b84f090f-947e-4794-8589-58716526a951",
     "showTitle": false,
     "title": ""
    }
   },
   "outputs": [
    {
     "output_type": "stream",
     "name": "stdout",
     "output_type": "stream",
     "text": [
      "Out[12]: [FileInfo(path='dbfs:/FileStore/schnario/csv_write_repartition/_SUCCESS', name='_SUCCESS', size=0, modificationTime=1694746349000),\n FileInfo(path='dbfs:/FileStore/schnario/csv_write_repartition/_committed_5459707904475977255', name='_committed_5459707904475977255', size=286, modificationTime=1694746349000),\n FileInfo(path='dbfs:/FileStore/schnario/csv_write_repartition/_started_5459707904475977255', name='_started_5459707904475977255', size=0, modificationTime=1694746348000),\n FileInfo(path='dbfs:/FileStore/schnario/csv_write_repartition/part-00000-tid-5459707904475977255-3a968a96-a865-44fe-afe4-65f0541b4379-8-1-c000.csv', name='part-00000-tid-5459707904475977255-3a968a96-a865-44fe-afe4-65f0541b4379-8-1-c000.csv', size=184, modificationTime=1694746348000),\n FileInfo(path='dbfs:/FileStore/schnario/csv_write_repartition/part-00001-tid-5459707904475977255-3a968a96-a865-44fe-afe4-65f0541b4379-9-1-c000.csv', name='part-00001-tid-5459707904475977255-3a968a96-a865-44fe-afe4-65f0541b4379-9-1-c000.csv', size=184, modificationTime=1694746348000),\n FileInfo(path='dbfs:/FileStore/schnario/csv_write_repartition/part-00002-tid-5459707904475977255-3a968a96-a865-44fe-afe4-65f0541b4379-10-1-c000.csv', name='part-00002-tid-5459707904475977255-3a968a96-a865-44fe-afe4-65f0541b4379-10-1-c000.csv', size=190, modificationTime=1694746348000)]"
     ]
    }
   ],
   "source": [
    "dbutils.fs.ls(\"/FileStore/schnario/csv_write_repartition/\")"
   ]
  }
 ],
 "metadata": {
  "application/vnd.databricks.v1+notebook": {
   "dashboards": [],
   "language": "python",
   "notebookMetadata": {
    "pythonIndentUnit": 4
   },
   "notebookName": "Question_2_write_data_in_disk",
   "widgets": {}
  }
 },
 "nbformat": 4,
 "nbformat_minor": 0
}
